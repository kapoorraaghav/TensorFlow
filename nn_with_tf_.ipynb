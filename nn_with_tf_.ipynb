{
  "cells": [
    {
      "cell_type": "markdown",
      "metadata": {
        "id": "view-in-github",
        "colab_type": "text"
      },
      "source": [
        "<a href=\"https://colab.research.google.com/github/kapoorraaghav/TensorFlow/blob/main/nn_with_tf_.ipynb\" target=\"_parent\"><img src=\"https://colab.research.google.com/assets/colab-badge.svg\" alt=\"Open In Colab\"/></a>"
      ]
    },
    {
      "cell_type": "code",
      "execution_count": null,
      "metadata": {
        "colab": {
          "base_uri": "https://localhost:8080/",
          "height": 36
        },
        "id": "3jWixS7bjHHr",
        "outputId": "185f8dbd-7cce-4f61-e98f-24a238b6e50f"
      },
      "outputs": [
        {
          "output_type": "execute_result",
          "data": {
            "text/plain": [
              "'Predicting a numerical variable based on some other combination of variables,... or predicting a number'"
            ],
            "application/vnd.google.colaboratory.intrinsic+json": {
              "type": "string"
            }
          },
          "metadata": {},
          "execution_count": 1
        }
      ],
      "source": [
        "#intro to regression problems with nn in tensorflow\n",
        "'''Predicting a numerical variable based on some other combination of variables,... or predicting a number'''"
      ]
    },
    {
      "cell_type": "code",
      "execution_count": null,
      "metadata": {
        "id": "Kq5F7aYWmUzD"
      },
      "outputs": [],
      "source": [
        "import tensorflow as tf"
      ]
    },
    {
      "cell_type": "code",
      "execution_count": null,
      "metadata": {
        "colab": {
          "base_uri": "https://localhost:8080/",
          "height": 430
        },
        "id": "_wYPEIR7mbYA",
        "outputId": "d6a2293a-8fe4-4358-c67a-0e99bb673fc6"
      },
      "outputs": [
        {
          "output_type": "display_data",
          "data": {
            "text/plain": [
              "<Figure size 640x480 with 1 Axes>"
            ],
            "image/png": "[encoded data removed]"
          },
          "metadata": {}
        }
      ],
      "source": [
        "import numpy as np\n",
        "import matplotlib.pyplot as plt\n",
        "\n",
        "#create features\n",
        "X = tf.constant([-7.0, -4.0, -1.0, 2.0, 5.0, 8.0, 11.0, 14.0, 17.0, 1010])\n",
        "\n",
        "#create labels\n",
        "y = tf.constant([3.0, 6.0, 9.0, 12.0, 15.0, 18.0, 21.0, 24.0, 27.0,1020])\n",
        "plt.scatter(X,y);\n"
      ]
    },
    {
      "cell_type": "code",
      "execution_count": null,
      "metadata": {
        "colab": {
          "base_uri": "https://localhost:8080/"
        },
        "id": "J8IRetYDo5uP",
        "outputId": "f77ff4e6-ef35-4936-dbcf-b3723d3d4a28"
      },
      "outputs": [
        {
          "output_type": "execute_result",
          "data": {
            "text/plain": [
              "<tf.Tensor: shape=(10,), dtype=bool, numpy=\n",
              "array([ True,  True,  True,  True,  True,  True,  True,  True,  True,\n",
              "        True])>"
            ]
          },
          "metadata": {},
          "execution_count": 4
        }
      ],
      "source": [
        "y == X +10"
      ]
    },
    {
      "cell_type": "code",
      "execution_count": null,
      "metadata": {
        "id": "1FAmqqonqAfP"
      },
      "outputs": [],
      "source": [
        "#input and output shapes"
      ]
    },
    {
      "cell_type": "code",
      "execution_count": null,
      "metadata": {
        "colab": {
          "base_uri": "https://localhost:8080/"
        },
        "id": "JSv2lhWjqI9n",
        "outputId": "3180afbb-d8ee-4b7c-9ecd-752946198f82"
      },
      "outputs": [
        {
          "output_type": "execute_result",
          "data": {
            "text/plain": [
              "(<tf.Tensor: shape=(4,), dtype=string, numpy=array([b'Processor', b'Ram', b'Graphics Card', b'Brand'], dtype=object)>,\n",
              " <tf.Tensor: shape=(1,), dtype=int32, numpy=array([118990], dtype=int32)>)"
            ]
          },
          "metadata": {},
          "execution_count": 6
        }
      ],
      "source": [
        "#creating a demo for laptop pricing prediction\n",
        "laptop_info = tf.constant(['Processor','Ram','Graphics Card','Brand'])\n",
        "laptop_price = tf.constant([118990])\n",
        "laptop_info, laptop_price"
      ]
    },
    {
      "cell_type": "code",
      "execution_count": null,
      "metadata": {
        "colab": {
          "base_uri": "https://localhost:8080/",
          "height": 53
        },
        "id": "0tZI6X_sq9PF",
        "outputId": "e07a8c44-e473-4d47-9051-29f75964eb83"
      },
      "outputs": [
        {
          "output_type": "execute_result",
          "data": {
            "text/plain": [
              "' 1. creating a model with input,output and hidden layer having deep learning model\\n    2. compiling a model - define the loss function and the optimizer and evaluvation metrics\\n    3. fitting a model - letting the model try to find patterns between X and y'"
            ],
            "application/vnd.google.colaboratory.intrinsic+json": {
              "type": "string"
            }
          },
          "metadata": {},
          "execution_count": 7
        }
      ],
      "source": [
        "#steps in modelling with tf\n",
        "''' 1. creating a model with input,output and hidden layer having deep learning model\n",
        "    2. compiling a model - define the loss function and the optimizer and evaluvation metrics\n",
        "    3. fitting a model - letting the model try to find patterns between X and y'''"
      ]
    },
    {
      "cell_type": "code",
      "execution_count": null,
      "metadata": {
        "colab": {
          "base_uri": "https://localhost:8080/",
          "height": 70
        },
        "collapsed": true,
        "id": "ieg0VM5lDIx9",
        "outputId": "f3e381bb-9812-4696-def9-dc0266788994"
      },
      "outputs": [
        {
          "output_type": "execute_result",
          "data": {
            "text/plain": [
              "\"tf.random.set_seed(42)\\n#creating a model using sequential api\\nmodel = tf.keras.Sequential([\\n    tf.keras.layers.Dense(1)\\n])\\n#compile the model\\nmodel.compile(loss=tf.keras.losses.mae,#mean absolute error\\n              optimizer=tf.keras.optimizers.SGD(),#Stochastic gradient descent\\n              metrics = ['mae'])\\n# fiting the model\\nmodel.fit(tf.expand_dims(X, axis=-1), y, epochs=500)\\n\""
            ],
            "application/vnd.google.colaboratory.intrinsic+json": {
              "type": "string"
            }
          },
          "metadata": {},
          "execution_count": 8
        }
      ],
      "source": [
        "'''tf.random.set_seed(42)\n",
        "#creating a model using sequential api\n",
        "model = tf.keras.Sequential([\n",
        "    tf.keras.layers.Dense(1)\n",
        "])\n",
        "#compile the model\n",
        "model.compile(loss=tf.keras.losses.mae,#mean absolute error\n",
        "              optimizer=tf.keras.optimizers.SGD(),#Stochastic gradient descent\n",
        "              metrics = ['mae'])\n",
        "# fiting the model\n",
        "model.fit(tf.expand_dims(X, axis=-1), y, epochs=500)\n",
        "'''#commenting out because notebook takes to long to operate other tasks"
      ]
    },
    {
      "cell_type": "code",
      "execution_count": null,
      "metadata": {
        "id": "oyHaPc9oaCbb"
      },
      "outputs": [],
      "source": [
        "#y_pred = model.predict(tf.constant([17.0]))\n",
        "#y_pred"
      ]
    },
    {
      "cell_type": "code",
      "execution_count": null,
      "metadata": {
        "colab": {
          "base_uri": "https://localhost:8080/"
        },
        "id": "QeLCqJtJaiIF",
        "outputId": "f9a7d3b8-2304-4e74-fcba-50a93c53b555"
      },
      "outputs": [
        {
          "output_type": "execute_result",
          "data": {
            "text/plain": [
              "(<tf.Tensor: shape=(10,), dtype=float32, numpy=\n",
              " array([-7.00e+00, -4.00e+00, -1.00e+00,  2.00e+00,  5.00e+00,  8.00e+00,\n",
              "         1.10e+01,  1.40e+01,  1.70e+01,  1.01e+03], dtype=float32)>,\n",
              " <tf.Tensor: shape=(10,), dtype=float32, numpy=\n",
              " array([   3.,    6.,    9.,   12.,   15.,   18.,   21.,   24.,   27.,\n",
              "        1020.], dtype=float32)>)"
            ]
          },
          "metadata": {},
          "execution_count": 10
        }
      ],
      "source": [
        "X, y"
      ]
    },
    {
      "cell_type": "code",
      "execution_count": null,
      "metadata": {
        "colab": {
          "base_uri": "https://localhost:8080/",
          "height": 88
        },
        "id": "_M11EkZbzvoP",
        "outputId": "e4e3f9d4-6a8e-4ac3-fefd-26ba7e77deab"
      },
      "outputs": [
        {
          "output_type": "execute_result",
          "data": {
            "text/plain": [
              "' Creating a model - here you might want to add more layers, increase the number of hidden units (also called neurons) within each layer,\\nchange the activation functions of each layer.\\nCompiling a model - you might want to choose optimization function or perhaps change the learning rate of the optimization function.\\nFitting a model - perhaps you could fit a model for more epochs (leave it training for longer) or on more data (give the model more\\n examples to learn from).'"
            ],
            "application/vnd.google.colaboratory.intrinsic+json": {
              "type": "string"
            }
          },
          "metadata": {},
          "execution_count": 11
        }
      ],
      "source": [
        "#improving our model\n",
        "''' Creating a model - here you might want to add more layers, increase the number of hidden units (also called neurons) within each layer,\n",
        "change the activation functions of each layer.\n",
        "Compiling a model - you might want to choose optimization function or perhaps change the learning rate of the optimization function.\n",
        "Fitting a model - perhaps you could fit a model for more epochs (leave it training for longer) or on more data (give the model more\n",
        " examples to learn from).'''"
      ]
    },
    {
      "cell_type": "code",
      "execution_count": null,
      "metadata": {
        "id": "uUHCeKVx0VSx"
      },
      "outputs": [],
      "source": []
    },
    {
      "cell_type": "code",
      "execution_count": null,
      "metadata": {
        "colab": {
          "base_uri": "https://localhost:8080/",
          "height": 122
        },
        "collapsed": true,
        "id": "kJ8PZpBnIVwS",
        "outputId": "409b0c0e-5e2c-4ca7-cca2-6745b45e5e81"
      },
      "outputs": [
        {
          "output_type": "execute_result",
          "data": {
            "text/plain": [
              "'#loss: 0.0161 minimum using this\\ntf.random.set_seed(42)\\n#creating a model using sequential api\\nmodel = tf.keras.Sequential([\\n    tf.keras.layers.Dense(500, activation=\"relu\"),\\n    tf.keras.layers.Dense(500, activation=\"relu\"),\\n    tf.keras.layers.Dense(500, activation=\"relu\"),\\n    tf.keras.layers.Dense(500, activation=\"relu\"),\\n    tf.keras.layers.Dense(500, activation=\"relu\"),\\n    tf.keras.layers.Dense(1)\\n])\\n#compile the model\\nmodel.compile(loss=tf.keras.losses.mae,#mean absolute error\\n              optimizer=tf.keras.optimizers.Adam(learning_rate=0.001),#Stochastic gradient descent were used earlier\\n              metrics = [\\'mae\\'])\\n# fiting the model\\nmodel.fit(tf.expand_dims(X, axis=-1), y, epochs=800)'"
            ],
            "application/vnd.google.colaboratory.intrinsic+json": {
              "type": "string"
            }
          },
          "metadata": {},
          "execution_count": 12
        }
      ],
      "source": [
        "'''#loss: 0.0161 minimum using this\n",
        "tf.random.set_seed(42)\n",
        "#creating a model using sequential api\n",
        "model = tf.keras.Sequential([\n",
        "    tf.keras.layers.Dense(500, activation=\"relu\"),\n",
        "    tf.keras.layers.Dense(500, activation=\"relu\"),\n",
        "    tf.keras.layers.Dense(500, activation=\"relu\"),\n",
        "    tf.keras.layers.Dense(500, activation=\"relu\"),\n",
        "    tf.keras.layers.Dense(500, activation=\"relu\"),\n",
        "    tf.keras.layers.Dense(1)\n",
        "])\n",
        "#compile the model\n",
        "model.compile(loss=tf.keras.losses.mae,#mean absolute error\n",
        "              optimizer=tf.keras.optimizers.Adam(learning_rate=0.001),#Stochastic gradient descent were used earlier\n",
        "              metrics = ['mae'])\n",
        "# fiting the model\n",
        "model.fit(tf.expand_dims(X, axis=-1), y, epochs=800)'''"
      ]
    },
    {
      "cell_type": "code",
      "execution_count": null,
      "metadata": {
        "colab": {
          "base_uri": "https://localhost:8080/",
          "height": 36
        },
        "id": "GDDGpMBQOtOn",
        "outputId": "84ec90a7-7699-4cda-985f-8dfd359ad5f6"
      },
      "outputs": [
        {
          "output_type": "execute_result",
          "data": {
            "text/plain": [
              "'y_pred_1 = model.predict(tf.constant([17.0]))\\ny_pred_1'"
            ],
            "application/vnd.google.colaboratory.intrinsic+json": {
              "type": "string"
            }
          },
          "metadata": {},
          "execution_count": 13
        }
      ],
      "source": [
        "'''y_pred_1 = model.predict(tf.constant([17.0]))\n",
        "y_pred_1'''"
      ]
    },
    {
      "cell_type": "code",
      "execution_count": null,
      "metadata": {
        "colab": {
          "base_uri": "https://localhost:8080/",
          "height": 36
        },
        "id": "2FGm0SjOZiT0",
        "outputId": "263a3ee3-914e-4408-d60b-4ade6946262d"
      },
      "outputs": [
        {
          "output_type": "execute_result",
          "data": {
            "text/plain": [
              "'y_pred_2 = model.predict(tf.constant([90.0]))\\ny_pred_2'"
            ],
            "application/vnd.google.colaboratory.intrinsic+json": {
              "type": "string"
            }
          },
          "metadata": {},
          "execution_count": 14
        }
      ],
      "source": [
        "'''y_pred_2 = model.predict(tf.constant([90.0]))\n",
        "y_pred_2'''"
      ]
    },
    {
      "cell_type": "code",
      "execution_count": null,
      "metadata": {
        "colab": {
          "base_uri": "https://localhost:8080/",
          "height": 36
        },
        "id": "-zDtScuyelve",
        "outputId": "c0d530fb-91c2-4a95-82df-cbf32da78d84"
      },
      "outputs": [
        {
          "output_type": "execute_result",
          "data": {
            "text/plain": [
              "'y_pred_3 = model.predict(tf.constant([70.0]))\\ny_pred_3'"
            ],
            "application/vnd.google.colaboratory.intrinsic+json": {
              "type": "string"
            }
          },
          "metadata": {},
          "execution_count": 15
        }
      ],
      "source": [
        "'''y_pred_3 = model.predict(tf.constant([70.0]))\n",
        "y_pred_3'''"
      ]
    },
    {
      "cell_type": "code",
      "execution_count": null,
      "metadata": {
        "colab": {
          "base_uri": "https://localhost:8080/",
          "height": 36
        },
        "id": "jrXRoAGmepdw",
        "outputId": "52b7ae0b-6228-4368-c1a1-86b13b64ec7d"
      },
      "outputs": [
        {
          "output_type": "execute_result",
          "data": {
            "text/plain": [
              "'y_pred_4 = model.predict(tf.constant([1200.0]))\\ny_pred_4'"
            ],
            "application/vnd.google.colaboratory.intrinsic+json": {
              "type": "string"
            }
          },
          "metadata": {},
          "execution_count": 16
        }
      ],
      "source": [
        "'''y_pred_4 = model.predict(tf.constant([1200.0]))\n",
        "y_pred_4'''"
      ]
    },
    {
      "cell_type": "code",
      "execution_count": null,
      "metadata": {
        "colab": {
          "base_uri": "https://localhost:8080/"
        },
        "id": "2ouli5O5IRQY",
        "outputId": "679d51ae-f0bd-4cb6-c00f-75d1fe2b5191"
      },
      "outputs": [
        {
          "output_type": "execute_result",
          "data": {
            "text/plain": [
              "<tf.Tensor: shape=(50,), dtype=int32, numpy=\n",
              "array([-100,  -96,  -92,  -88,  -84,  -80,  -76,  -72,  -68,  -64,  -60,\n",
              "        -56,  -52,  -48,  -44,  -40,  -36,  -32,  -28,  -24,  -20,  -16,\n",
              "        -12,   -8,   -4,    0,    4,    8,   12,   16,   20,   24,   28,\n",
              "         32,   36,   40,   44,   48,   52,   56,   60,   64,   68,   72,\n",
              "         76,   80,   84,   88,   92,   96], dtype=int32)>"
            ]
          },
          "metadata": {},
          "execution_count": 17
        }
      ],
      "source": [
        "#Evaluvating our model\n",
        "X = tf.range(-100, 100 , 4)\n",
        "X"
      ]
    },
    {
      "cell_type": "code",
      "execution_count": null,
      "metadata": {
        "colab": {
          "base_uri": "https://localhost:8080/"
        },
        "id": "oScx5Nd_NC0_",
        "outputId": "9814e3f0-386e-447c-e5a4-d8b5d45dc178"
      },
      "outputs": [
        {
          "output_type": "execute_result",
          "data": {
            "text/plain": [
              "<tf.Tensor: shape=(50,), dtype=int32, numpy=\n",
              "array([  0,   4,   8,  12,  16,  20,  24,  28,  32,  36,  40,  44,  48,\n",
              "        52,  56,  60,  64,  68,  72,  76,  80,  84,  88,  92,  96, 100,\n",
              "       104, 108, 112, 116, 120, 124, 128, 132, 136, 140, 144, 148, 152,\n",
              "       156, 160, 164, 168, 172, 176, 180, 184, 188, 192, 196], dtype=int32)>"
            ]
          },
          "metadata": {},
          "execution_count": 18
        }
      ],
      "source": [
        "y = X + 100\n",
        "y"
      ]
    },
    {
      "cell_type": "code",
      "execution_count": null,
      "metadata": {
        "colab": {
          "base_uri": "https://localhost:8080/",
          "height": 447
        },
        "id": "VUxwLZGlNLzq",
        "outputId": "aa9c39d7-ffbc-4516-ae93-ad7bb251636c"
      },
      "outputs": [
        {
          "output_type": "execute_result",
          "data": {
            "text/plain": [
              "<matplotlib.collections.PathCollection at 0x7d7f8af73810>"
            ]
          },
          "metadata": {},
          "execution_count": 19
        },
        {
          "output_type": "display_data",
          "data": {
            "text/plain": [
              "<Figure size 640x480 with 1 Axes>"
            ],
            "image/png": "[encoded data removed]"
          },
          "metadata": {}
        }
      ],
      "source": [
        "plt.scatter(X,y)"
      ]
    },
    {
      "cell_type": "code",
      "execution_count": null,
      "metadata": {
        "id": "9vCnVo5cNQ8p"
      },
      "outputs": [],
      "source": [
        "#splitting the data\n",
        "X_train = X[:40]#first 40 are training samples(80%)\n",
        "y_train = y[:40]\n",
        "X_test = X[40:]\n",
        "y_test = y[40:]"
      ]
    },
    {
      "cell_type": "code",
      "execution_count": null,
      "metadata": {
        "colab": {
          "base_uri": "https://localhost:8080/"
        },
        "collapsed": true,
        "id": "DmAFpGmjNWKo",
        "outputId": "446b11e1-7f52-4316-acd3-ffa73c98a860"
      },
      "outputs": [
        {
          "output_type": "stream",
          "name": "stderr",
          "text": [
            "/usr/local/lib/python3.11/dist-packages/keras/src/layers/activations/leaky_relu.py:41: UserWarning: Argument `alpha` is deprecated. Use `negative_slope` instead.\n",
            "  warnings.warn(\n"
          ]
        },
        {
          "output_type": "execute_result",
          "data": {
            "text/plain": [
              "<keras.src.callbacks.history.History at 0x7d7f8af94850>"
            ]
          },
          "metadata": {},
          "execution_count": 21
        }
      ],
      "source": [
        "tf.random.set_seed(42)\n",
        "model = tf.keras.Sequential([\n",
        "    tf.keras.layers.Dense(100,activation='elu',name=\"input_layer_\"),\n",
        "    tf.keras.layers.Dense(100,activation='elu',name=\"hidden_layer_1\"),\n",
        "    tf.keras.layers.Dense(100,activation='elu',name=\"hidden_layer_2\"),\n",
        "    tf.keras.layers.Dense(100,activation='elu',name=\"hidden_layer_3\"),\n",
        "    tf.keras.layers.Dense(100,activation='elu',name=\"hidden_layer_4\"),\n",
        "    tf.keras.layers.LeakyReLU(alpha=0.3),\n",
        "    tf.keras.layers.Dense(1,name=\"output_layer\")\n",
        "],name=\"model_1\")\n",
        "\n",
        "model.compile(loss=tf.keras.losses.mae,\n",
        "              optimizer=tf.keras.optimizers.Adam(learning_rate=0.001),\n",
        "              metrics = ['mae'])\n",
        "\n",
        "model.fit(tf.expand_dims(X_train, axis=-1), y_train, epochs=900, verbose=0)"
      ]
    },
    {
      "cell_type": "code",
      "execution_count": null,
      "metadata": {
        "id": "8NTu9hvEEwCo"
      },
      "outputs": [],
      "source": [
        "#model.summary()"
      ]
    },
    {
      "cell_type": "code",
      "execution_count": null,
      "metadata": {
        "collapsed": true,
        "id": "RVWBOkUBDOyz"
      },
      "outputs": [],
      "source": [
        "from tensorflow.keras.utils import plot_model\n",
        "\n",
        "#plot_model(model=model, show_shapes=True)"
      ]
    },
    {
      "cell_type": "markdown",
      "metadata": {
        "id": "UAPblH2VIPjn"
      },
      "source": [
        "visualising our model's predictions\n",
        "We will plot them against the ground truth table\n",
        "It is mostly seen in the form of y_test or y_true versus y_pred"
      ]
    },
    {
      "cell_type": "code",
      "execution_count": null,
      "metadata": {
        "colab": {
          "base_uri": "https://localhost:8080/"
        },
        "id": "We_dkPvlJRr1",
        "outputId": "6fc2be6f-d864-4cc6-adb0-f0b2dcbb848f"
      },
      "outputs": [
        {
          "output_type": "stream",
          "name": "stdout",
          "text": [
            "\u001b[1m1/1\u001b[0m \u001b[32m━━━━━━━━━━━━━━━━━━━━\u001b[0m\u001b[37m\u001b[0m \u001b[1m0s\u001b[0m 61ms/step\n"
          ]
        },
        {
          "output_type": "execute_result",
          "data": {
            "text/plain": [
              "array([[160.37949],\n",
              "       [164.37837],\n",
              "       [168.3766 ],\n",
              "       [172.37433],\n",
              "       [176.37318],\n",
              "       [180.37305],\n",
              "       [184.37369],\n",
              "       [188.37498],\n",
              "       [192.37697],\n",
              "       [196.37947]], dtype=float32)"
            ]
          },
          "metadata": {},
          "execution_count": 24
        }
      ],
      "source": [
        "#making some predictions\n",
        "y_pred = model.predict(X_test)\n",
        "y_pred"
      ]
    },
    {
      "cell_type": "code",
      "execution_count": null,
      "metadata": {
        "colab": {
          "base_uri": "https://localhost:8080/"
        },
        "id": "2EEFFQkXJtoW",
        "outputId": "93d71dea-fc28-452f-abfc-f4bdf172b66f"
      },
      "outputs": [
        {
          "output_type": "execute_result",
          "data": {
            "text/plain": [
              "<tf.Tensor: shape=(10,), dtype=int32, numpy=array([160, 164, 168, 172, 176, 180, 184, 188, 192, 196], dtype=int32)>"
            ]
          },
          "metadata": {},
          "execution_count": 25
        }
      ],
      "source": [
        "y_test"
      ]
    },
    {
      "cell_type": "code",
      "execution_count": null,
      "metadata": {
        "id": "DSTiQ60dP3K1"
      },
      "outputs": [],
      "source": [
        "def plot_predictions(train_data=X_train,\n",
        "                     train_labels=y_train,\n",
        "                     test_data=X_test,\n",
        "                     test_labels=y_test,\n",
        "                     predictions=y_pred):\n",
        "  \"\"\"\n",
        "  Plots training data, test data and compares predictions.\n",
        "  \"\"\"\n",
        "  plt.figure(figsize=(10, 7))\n",
        "  # Plot training data in blue\n",
        "  plt.scatter(train_data, train_labels, c=\"b\", label=\"Training data\")\n",
        "  # Plot test data in green\n",
        "  plt.scatter(test_data, test_labels, c=\"g\", label=\"Testing data\")\n",
        "  # Plot the predictions in red (predictions were made on the test data)\n",
        "  plt.scatter(test_data, predictions, c=\"r\", label=\"Predictions\")\n",
        "  # Show the legend\n",
        "  plt.legend();\n"
      ]
    },
    {
      "cell_type": "code",
      "execution_count": null,
      "metadata": {
        "colab": {
          "base_uri": "https://localhost:8080/",
          "height": 599
        },
        "id": "BarUQigPQRIv",
        "outputId": "79ba4f7a-b336-4262-c436-6e54f65dc42a"
      },
      "outputs": [
        {
          "output_type": "display_data",
          "data": {
            "text/plain": [
              "<Figure size 1000x700 with 1 Axes>"
            ],
            "image/png": "[encoded data removed]"
          },
          "metadata": {}
        }
      ],
      "source": [
        "plot_predictions()"
      ]
    },
    {
      "cell_type": "code",
      "execution_count": null,
      "metadata": {
        "colab": {
          "base_uri": "https://localhost:8080/",
          "height": 88
        },
        "id": "rwwUHhKS0j3o",
        "outputId": "19568059-92c5-40c8-e5bf-caee986ca1b2"
      },
      "outputs": [
        {
          "output_type": "execute_result",
          "data": {
            "text/plain": [
              "\"There will be different evaluvation metrics to evaluvate the models performance\\nMAE --------> on an v=average how wrong is each of the model's prediction ------------> mostly used as starter fir regression problems\\nMSE--------->sq the average error ------------------> mostly used when largers error are more significant than smaller errors\\nHUber ------>a little math function ---------------->less sensitive to outliners than mse\\n\""
            ],
            "application/vnd.google.colaboratory.intrinsic+json": {
              "type": "string"
            }
          },
          "metadata": {},
          "execution_count": 28
        }
      ],
      "source": [
        "#evaluvating our model's predictions with regression evaluvation metrics\n",
        "'''There will be different evaluvation metrics to evaluvate the models performance\n",
        "MAE --------> on an v=average how wrong is each of the model's prediction ------------> mostly used as starter fir regression problems\n",
        "MSE--------->sq the average error ------------------> mostly used when largers error are more significant than smaller errors\n",
        "HUber ------>a little math function ---------------->less sensitive to outliners than mse\n",
        "'''"
      ]
    },
    {
      "cell_type": "code",
      "execution_count": null,
      "metadata": {
        "colab": {
          "base_uri": "https://localhost:8080/"
        },
        "id": "u-XUqBLSawCY",
        "outputId": "d379df5f-7de3-4e67-8688-48852834db4f"
      },
      "outputs": [
        {
          "output_type": "stream",
          "name": "stdout",
          "text": [
            "\u001b[1m1/1\u001b[0m \u001b[32m━━━━━━━━━━━━━━━━━━━━\u001b[0m\u001b[37m\u001b[0m \u001b[1m0s\u001b[0m 140ms/step - loss: 0.3760 - mae: 0.3760\n"
          ]
        },
        {
          "output_type": "execute_result",
          "data": {
            "text/plain": [
              "[0.3760131895542145, 0.3760131895542145]"
            ]
          },
          "metadata": {},
          "execution_count": 29
        }
      ],
      "source": [
        "#evaluvate the model on test\n",
        "model.evaluate(X_test, y_test)"
      ]
    },
    {
      "cell_type": "code",
      "source": [
        "y_pred = tf.squeeze(y_pred)\n",
        "mae = tf.metrics.mae(y_true=y_test, y_pred=y_pred)\n",
        "mae"
      ],
      "metadata": {
        "colab": {
          "base_uri": "https://localhost:8080/"
        },
        "id": "zTbM_6IlNa44",
        "outputId": "fb928721-6ea7-48f8-98dc-525197b34385"
      },
      "execution_count": null,
      "outputs": [
        {
          "output_type": "execute_result",
          "data": {
            "text/plain": [
              "<tf.Tensor: shape=(), dtype=float32, numpy=0.3760131895542145>"
            ]
          },
          "metadata": {},
          "execution_count": 30
        }
      ]
    },
    {
      "cell_type": "code",
      "source": [
        "mse = tf.metrics.mse(y_true=y_test, y_pred=y_pred)"
      ],
      "metadata": {
        "id": "Ihob4fyVofg6"
      },
      "execution_count": null,
      "outputs": []
    },
    {
      "cell_type": "code",
      "source": [
        "#making a fucntion to use both mae and mse\n",
        "def mae(y_true, y_pred):\n",
        "  return tf.metrics.mae(y_true=y_true, y_pred=y_pred)\n",
        "\n",
        "\n",
        "def mse(y_true, y_pred):\n",
        "  return tf.metrics.mse(y_true=y_true, y_pred=y_pred)"
      ],
      "metadata": {
        "id": "PkCLVTfNokG2"
      },
      "execution_count": null,
      "outputs": []
    },
    {
      "cell_type": "code",
      "source": [
        "#helpful when comparing models\n",
        "#comparing our models prediction using a pandas dataframe\n",
        "import pandas as pd\n",
        "model_result = [[\"model\", mae, mse]]\n",
        "\n",
        "results =  pd.DataFrame(model_result, columns = ['model','mae', 'mse'])\n",
        "results"
      ],
      "metadata": {
        "id": "BgnkwvJswiY0",
        "colab": {
          "base_uri": "https://localhost:8080/",
          "height": 89
        },
        "outputId": "78ef6012-5b92-4e2e-89c6-674a7b48df10"
      },
      "execution_count": null,
      "outputs": [
        {
          "output_type": "execute_result",
          "data": {
            "text/plain": [
              "   model                               mae                               mse\n",
              "0  model  <function mae at 0x7d7f7b48c180>  <function mse at 0x7d7f7b48c220>"
            ],
            "text/html": [
              "\n",
              "  <div id=\"df-76a23cd4-5abc-4653-80d1-7243804ca981\" class=\"colab-df-container\">\n",
              "    <div>\n",
              "<style scoped>\n",
              "    .dataframe tbody tr th:only-of-type {\n",
              "        vertical-align: middle;\n",
              "    }\n",
              "\n",
              "    .dataframe tbody tr th {\n",
              "        vertical-align: top;\n",
              "    }\n",
              "\n",
              "    .dataframe thead th {\n",
              "        text-align: right;\n",
              "    }\n",
              "</style>\n",
              "<table border=\"1\" class=\"dataframe\">\n",
              "  <thead>\n",
              "    <tr style=\"text-align: right;\">\n",
              "      <th></th>\n",
              "      <th>model</th>\n",
              "      <th>mae</th>\n",
              "      <th>mse</th>\n",
              "    </tr>\n",
              "  </thead>\n",
              "  <tbody>\n",
              "    <tr>\n",
              "      <th>0</th>\n",
              "      <td>model</td>\n",
              "      <td>&lt;function mae at 0x7d7f7b48c180&gt;</td>\n",
              "      <td>&lt;function mse at 0x7d7f7b48c220&gt;</td>\n",
              "    </tr>\n",
              "  </tbody>\n",
              "</table>\n",
              "</div>\n",
              "    <div class=\"colab-df-buttons\">\n",
              "\n",
              "  <div class=\"colab-df-container\">\n",
              "    <button class=\"colab-df-convert\" onclick=\"convertToInteractive('df-76a23cd4-5abc-4653-80d1-7243804ca981')\"\n",
              "            title=\"Convert this dataframe to an interactive table.\"\n",
              "            style=\"display:none;\">\n",
              "\n",
              "  <svg xmlns=\"http://www.w3.org/2000/svg\" height=\"24px\" viewBox=\"0 -960 960 960\">\n",
              "    <path d=\"M120-120v-720h720v720H120Zm60-500h600v-160H180v160Zm220 220h160v-160H400v160Zm0 220h160v-160H400v160ZM180-400h160v-160H180v160Zm440 0h160v-160H620v160ZM180-180h160v-160H180v160Zm440 0h160v-160H620v160Z\"/>\n",
              "  </svg>\n",
              "    </button>\n",
              "\n",
              "  <style>\n",
              "    .colab-df-container {\n",
              "      display:flex;\n",
              "      gap: 12px;\n",
              "    }\n",
              "\n",
              "    .colab-df-convert {\n",
              "      background-color: #E8F0FE;\n",
              "      border: none;\n",
              "      border-radius: 50%;\n",
              "      cursor: pointer;\n",
              "      display: none;\n",
              "      fill: #1967D2;\n",
              "      height: 32px;\n",
              "      padding: 0 0 0 0;\n",
              "      width: 32px;\n",
              "    }\n",
              "\n",
              "    .colab-df-convert:hover {\n",
              "      background-color: #E2EBFA;\n",
              "      box-shadow: 0px 1px 2px rgba(60, 64, 67, 0.3), 0px 1px 3px 1px rgba(60, 64, 67, 0.15);\n",
              "      fill: #174EA6;\n",
              "    }\n",
              "\n",
              "    .colab-df-buttons div {\n",
              "      margin-bottom: 4px;\n",
              "    }\n",
              "\n",
              "    [theme=dark] .colab-df-convert {\n",
              "      background-color: #3B4455;\n",
              "      fill: #D2E3FC;\n",
              "    }\n",
              "\n",
              "    [theme=dark] .colab-df-convert:hover {\n",
              "      background-color: #434B5C;\n",
              "      box-shadow: 0px 1px 3px 1px rgba(0, 0, 0, 0.15);\n",
              "      filter: drop-shadow(0px 1px 2px rgba(0, 0, 0, 0.3));\n",
              "      fill: #FFFFFF;\n",
              "    }\n",
              "  </style>\n",
              "\n",
              "    <script>\n",
              "      const buttonEl =\n",
              "        document.querySelector('#df-76a23cd4-5abc-4653-80d1-7243804ca981 button.colab-df-convert');\n",
              "      buttonEl.style.display =\n",
              "        google.colab.kernel.accessAllowed ? 'block' : 'none';\n",
              "\n",
              "      async function convertToInteractive(key) {\n",
              "        const element = document.querySelector('#df-76a23cd4-5abc-4653-80d1-7243804ca981');\n",
              "        const dataTable =\n",
              "          await google.colab.kernel.invokeFunction('convertToInteractive',\n",
              "                                                    [key], {});\n",
              "        if (!dataTable) return;\n",
              "\n",
              "        const docLinkHtml = 'Like what you see? Visit the ' +\n",
              "          '<a target=\"_blank\" href=https://colab.research.google.com/notebooks/data_table.ipynb>data table notebook</a>'\n",
              "          + ' to learn more about interactive tables.';\n",
              "        element.innerHTML = '';\n",
              "        dataTable['output_type'] = 'display_data';\n",
              "        await google.colab.output.renderOutput(dataTable, element);\n",
              "        const docLink = document.createElement('div');\n",
              "        docLink.innerHTML = docLinkHtml;\n",
              "        element.appendChild(docLink);\n",
              "      }\n",
              "    </script>\n",
              "  </div>\n",
              "\n",
              "\n",
              "  <div id=\"id_f2709166-cf58-4554-9663-f53c24843da1\">\n",
              "    <style>\n",
              "      .colab-df-generate {\n",
              "        background-color: #E8F0FE;\n",
              "        border: none;\n",
              "        border-radius: 50%;\n",
              "        cursor: pointer;\n",
              "        display: none;\n",
              "        fill: #1967D2;\n",
              "        height: 32px;\n",
              "        padding: 0 0 0 0;\n",
              "        width: 32px;\n",
              "      }\n",
              "\n",
              "      .colab-df-generate:hover {\n",
              "        background-color: #E2EBFA;\n",
              "        box-shadow: 0px 1px 2px rgba(60, 64, 67, 0.3), 0px 1px 3px 1px rgba(60, 64, 67, 0.15);\n",
              "        fill: #174EA6;\n",
              "      }\n",
              "\n",
              "      [theme=dark] .colab-df-generate {\n",
              "        background-color: #3B4455;\n",
              "        fill: #D2E3FC;\n",
              "      }\n",
              "\n",
              "      [theme=dark] .colab-df-generate:hover {\n",
              "        background-color: #434B5C;\n",
              "        box-shadow: 0px 1px 3px 1px rgba(0, 0, 0, 0.15);\n",
              "        filter: drop-shadow(0px 1px 2px rgba(0, 0, 0, 0.3));\n",
              "        fill: #FFFFFF;\n",
              "      }\n",
              "    </style>\n",
              "    <button class=\"colab-df-generate\" onclick=\"generateWithVariable('results')\"\n",
              "            title=\"Generate code using this dataframe.\"\n",
              "            style=\"display:none;\">\n",
              "\n",
              "  <svg xmlns=\"http://www.w3.org/2000/svg\" height=\"24px\"viewBox=\"0 0 24 24\"\n",
              "       width=\"24px\">\n",
              "    <path d=\"M7,19H8.4L18.45,9,17,7.55,7,17.6ZM5,21V16.75L18.45,3.32a2,2,0,0,1,2.83,0l1.4,1.43a1.91,1.91,0,0,1,.58,1.4,1.91,1.91,0,0,1-.58,1.4L9.25,21ZM18.45,9,17,7.55Zm-12,3A5.31,5.31,0,0,0,4.9,8.1,5.31,5.31,0,0,0,1,6.5,5.31,5.31,0,0,0,4.9,4.9,5.31,5.31,0,0,0,6.5,1,5.31,5.31,0,0,0,8.1,4.9,5.31,5.31,0,0,0,12,6.5,5.46,5.46,0,0,0,6.5,12Z\"/>\n",
              "  </svg>\n",
              "    </button>\n",
              "    <script>\n",
              "      (() => {\n",
              "      const buttonEl =\n",
              "        document.querySelector('#id_f2709166-cf58-4554-9663-f53c24843da1 button.colab-df-generate');\n",
              "      buttonEl.style.display =\n",
              "        google.colab.kernel.accessAllowed ? 'block' : 'none';\n",
              "\n",
              "      buttonEl.onclick = () => {\n",
              "        google.colab.notebook.generateWithVariable('results');\n",
              "      }\n",
              "      })();\n",
              "    </script>\n",
              "  </div>\n",
              "\n",
              "    </div>\n",
              "  </div>\n"
            ],
            "application/vnd.google.colaboratory.intrinsic+json": {
              "type": "dataframe",
              "variable_name": "results",
              "summary": "{\n  \"name\": \"results\",\n  \"rows\": 1,\n  \"fields\": [\n    {\n      \"column\": \"model\",\n      \"properties\": {\n        \"dtype\": \"string\",\n        \"num_unique_values\": 1,\n        \"samples\": [\n          \"model\"\n        ],\n        \"semantic_type\": \"\",\n        \"description\": \"\"\n      }\n    },\n    {\n      \"column\": \"mae\",\n      \"properties\": {\n        \"dtype\": \"string\",\n        \"num_unique_values\": 1,\n        \"samples\": [\n          \"<function mae at 0x7d7f7b48c180>\"\n        ],\n        \"semantic_type\": \"\",\n        \"description\": \"\"\n      }\n    },\n    {\n      \"column\": \"mse\",\n      \"properties\": {\n        \"dtype\": \"string\",\n        \"num_unique_values\": 1,\n        \"samples\": [\n          \"<function mse at 0x7d7f7b48c220>\"\n        ],\n        \"semantic_type\": \"\",\n        \"description\": \"\"\n      }\n    }\n  ]\n}"
            }
          },
          "metadata": {},
          "execution_count": 33
        }
      ]
    },
    {
      "cell_type": "code",
      "source": [
        "'''saving our model so that we can use it in future outside of google colab or anywhere required\n",
        "there are 2 ways to save a model 1. SavedModel 2. HDF5'''"
      ],
      "metadata": {
        "id": "_y5US_SpolbC"
      },
      "execution_count": null,
      "outputs": []
    },
    {
      "cell_type": "code",
      "source": [
        "#savedmodel format\n",
        "model.save('final_model_SavedModel_Format.keras') #allows us to edit the model later on"
      ],
      "metadata": {
        "id": "kC6kEoclpRyk"
      },
      "execution_count": null,
      "outputs": []
    },
    {
      "cell_type": "code",
      "source": [
        "#HDF5 format\n",
        "model.save('final_model_HDF5_format.keras')"
      ],
      "metadata": {
        "id": "OKOVuWxv7C0-"
      },
      "execution_count": null,
      "outputs": []
    },
    {
      "cell_type": "code",
      "source": [
        "#loading a saved model\n",
        "loaded_SavedModel_format = tf.keras.models.load_model('/content/final_model_SavedModel_Format.keras')"
      ],
      "metadata": {
        "id": "Jetnatf49Q-K"
      },
      "execution_count": null,
      "outputs": []
    },
    {
      "cell_type": "code",
      "source": [
        "tf.random.set_seed(42)\n",
        "saved_model_predict = loaded_SavedModel_format.predict(X_test)\n",
        "saved_model_predict"
      ],
      "metadata": {
        "colab": {
          "base_uri": "https://localhost:8080/"
        },
        "id": "p6MAORJ8EpJq",
        "outputId": "6951d745-b0b3-4ff7-b40a-f59c8625e95c"
      },
      "execution_count": null,
      "outputs": [
        {
          "output_type": "stream",
          "name": "stdout",
          "text": [
            "\u001b[1m1/1\u001b[0m \u001b[32m━━━━━━━━━━━━━━━━━━━━\u001b[0m\u001b[37m\u001b[0m \u001b[1m0s\u001b[0m 73ms/step\n"
          ]
        },
        {
          "output_type": "execute_result",
          "data": {
            "text/plain": [
              "array([[160.37949],\n",
              "       [164.37837],\n",
              "       [168.3766 ],\n",
              "       [172.37433],\n",
              "       [176.37318],\n",
              "       [180.37305],\n",
              "       [184.37369],\n",
              "       [188.37498],\n",
              "       [192.37697],\n",
              "       [196.37947]], dtype=float32)"
            ]
          },
          "metadata": {},
          "execution_count": 41
        }
      ]
    },
    {
      "cell_type": "code",
      "source": [
        "y_pred1 = model.predict(X_test)#had a shape error from the previous cell where I had squeedze y_pred so had to make it as a new variable again\n",
        "y_pred1\n",
        "saved_model_predict == y_pred1"
      ],
      "metadata": {
        "colab": {
          "base_uri": "https://localhost:8080/"
        },
        "id": "X7Yf4qC1_NjE",
        "outputId": "b6986b91-3369-42c6-a811-5ca35154d423"
      },
      "execution_count": null,
      "outputs": [
        {
          "output_type": "stream",
          "name": "stdout",
          "text": [
            "\u001b[1m1/1\u001b[0m \u001b[32m━━━━━━━━━━━━━━━━━━━━\u001b[0m\u001b[37m\u001b[0m \u001b[1m0s\u001b[0m 40ms/step\n"
          ]
        },
        {
          "output_type": "execute_result",
          "data": {
            "text/plain": [
              "array([[ True],\n",
              "       [ True],\n",
              "       [ True],\n",
              "       [ True],\n",
              "       [ True],\n",
              "       [ True],\n",
              "       [ True],\n",
              "       [ True],\n",
              "       [ True],\n",
              "       [ True]])"
            ]
          },
          "metadata": {},
          "execution_count": 42
        }
      ]
    },
    {
      "cell_type": "code",
      "source": [
        "loaded_SavedModel_format_hdf5 = tf.keras.models.load_model('/content/final_model_HDF5_format.keras')\n",
        "saved_model_predict_hdf5 = loaded_SavedModel_format_hdf5.predict(X_test)\n",
        "saved_model_predict_hdf5"
      ],
      "metadata": {
        "colab": {
          "base_uri": "https://localhost:8080/"
        },
        "id": "Z0wlRtweHUIh",
        "outputId": "e9a75c75-ce45-4f66-ac26-e7864de5e9c6"
      },
      "execution_count": null,
      "outputs": [
        {
          "output_type": "stream",
          "name": "stdout",
          "text": [
            "\u001b[1m1/1\u001b[0m \u001b[32m━━━━━━━━━━━━━━━━━━━━\u001b[0m\u001b[37m\u001b[0m \u001b[1m0s\u001b[0m 68ms/step\n"
          ]
        },
        {
          "output_type": "execute_result",
          "data": {
            "text/plain": [
              "array([[160.37949],\n",
              "       [164.37837],\n",
              "       [168.3766 ],\n",
              "       [172.37433],\n",
              "       [176.37318],\n",
              "       [180.37305],\n",
              "       [184.37369],\n",
              "       [188.37498],\n",
              "       [192.37697],\n",
              "       [196.37947]], dtype=float32)"
            ]
          },
          "metadata": {},
          "execution_count": 43
        }
      ]
    },
    {
      "cell_type": "code",
      "source": [
        "mae(y_true=y_test, y_pred=y_pred1) == mae(y_true=y_test, y_pred=saved_model_predict) #here again used y_pred instead of y_pred1"
      ],
      "metadata": {
        "colab": {
          "base_uri": "https://localhost:8080/"
        },
        "id": "7Pj8wy--IwF1",
        "outputId": "09241b08-1038-49b1-faaa-fe3be4219ac5"
      },
      "execution_count": null,
      "outputs": [
        {
          "output_type": "execute_result",
          "data": {
            "text/plain": [
              "<tf.Tensor: shape=(10,), dtype=bool, numpy=\n",
              "array([ True,  True,  True,  True,  True,  True,  True,  True,  True,\n",
              "        True])>"
            ]
          },
          "metadata": {},
          "execution_count": 46
        }
      ]
    },
    {
      "cell_type": "code",
      "source": [],
      "metadata": {
        "id": "4ti5SeNakwKv"
      },
      "execution_count": null,
      "outputs": []
    }
  ],
  "metadata": {
    "colab": {
      "provenance": [],
      "authorship_tag": "ABX9TyM5fu2wRWz4Z03yJCYmYavj",
      "include_colab_link": true
    },
    "kernelspec": {
      "display_name": "Python 3",
      "name": "python3"
    },
    "language_info": {
      "name": "python"
    }
  },
  "nbformat": 4,
  "nbformat_minor": 0
}